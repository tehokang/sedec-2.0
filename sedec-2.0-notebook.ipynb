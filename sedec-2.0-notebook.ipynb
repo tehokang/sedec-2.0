{
 "cells": [
  {
   "cell_type": "markdown",
   "metadata": {},
   "source": [
    "# What's SEDEC?"
   ]
  },
  {
   "cell_type": "markdown",
   "metadata": {},
   "source": [
    "Please refer to original <a href=\"https://github.com/tehokang/sedec-to-handle-any-section-of-mpeg-ts\">SEDEC 1.0 </a>\n",
    "At this moment, SEDEC is only for decoding and editting sections, not encoding."
   ]
  },
  {
   "cell_type": "markdown",
   "metadata": {},
   "source": [
    "# Architecture"
   ]
  },
  {
   "cell_type": "markdown",
   "metadata": {},
   "source": [
    "SEDEC 2.0 has slightly different architecture from 1.0 so that 2.0 supports more tables of Hybridcast and MPEG-H.\n",
    "Let's look at source tree, 'base' folder has base classes can be used by dvb, hybridcast and mpegh.\n",
    "In other words, dvb, hybridcast and mpegh basically will have implementations to modify bases.\n",
    "\n",
    "<code>\n",
    "src \n",
    "├── base \n",
    "├── dvb\n",
    "│   ├── descriptors\n",
    "│   └── sections\n",
    "├── hybridcast\n",
    "│   ├── descriptors\n",
    "│   └── sections\n",
    "└── mpegh\n",
    "    ├── descriptors\n",
    "    └── sections\n",
    "</code>\n"
   ]
  },
  {
   "cell_type": "markdown",
   "metadata": {},
   "source": [
    "# How to build"
   ]
  },
  {
   "cell_type": "markdown",
   "metadata": {},
   "source": [
    "SEDEC is built on cmake, c++ library has to support c++11.\n",
    "\n",
    "<code>\n",
    "$mkdir build\n",
    "$cd build\n",
    "$cmake -DCMAKE_TOOLCHAIN_FILE=../cmake/XXXXX.cmake (you can choose what you want)\n",
    "$make\n",
    "$make install\n",
    "</code>"
   ]
  },
  {
   "cell_type": "markdown",
   "metadata": {},
   "source": [
    "# How to run examples"
   ]
  },
  {
   "cell_type": "markdown",
   "metadata": {},
   "source": [
    "Project has sections for example in sections-dumped and you can run executables after building\n",
    "<code>\n",
    "$./out/bin/sedec-dvb-decoder ../examples/sections-dumped/dvb/ait/XX_XXX_XXX\n",
    "</code>\n",
    "\n",
    "The presentation of result has sample screen like 1.0 version of sedec"
   ]
  },
  {
   "cell_type": "code",
   "execution_count": null,
   "metadata": {},
   "outputs": [],
   "source": []
  },
  {
   "cell_type": "code",
   "execution_count": null,
   "metadata": {},
   "outputs": [],
   "source": []
  },
  {
   "cell_type": "code",
   "execution_count": null,
   "metadata": {},
   "outputs": [],
   "source": []
  }
 ],
 "metadata": {
  "kernelspec": {
   "display_name": "Python 3",
   "language": "python",
   "name": "python3"
  },
  "language_info": {
   "codemirror_mode": {
    "name": "ipython",
    "version": 3
   },
   "file_extension": ".py",
   "mimetype": "text/x-python",
   "name": "python",
   "nbconvert_exporter": "python",
   "pygments_lexer": "ipython3",
   "version": "3.6.4"
  },
  "toc": {
   "base_numbering": 1,
   "nav_menu": {},
   "number_sections": true,
   "sideBar": true,
   "skip_h1_title": false,
   "title_cell": "Table of Contents",
   "title_sidebar": "Contents",
   "toc_cell": false,
   "toc_position": {},
   "toc_section_display": true,
   "toc_window_display": false
  }
 },
 "nbformat": 4,
 "nbformat_minor": 2
}
